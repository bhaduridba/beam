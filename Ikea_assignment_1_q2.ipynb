{
  "nbformat": 4,
  "nbformat_minor": 0,
  "metadata": {
    "colab": {
      "name": "Ikea_assignment_1_q2.ipynb",
      "provenance": [],
      "collapsed_sections": [],
      "authorship_tag": "ABX9TyM368qey2olswDRFZNMETUi",
      "include_colab_link": true
    },
    "kernelspec": {
      "name": "python3",
      "display_name": "Python 3"
    },
    "language_info": {
      "name": "python"
    }
  },
  "cells": [
    {
      "cell_type": "markdown",
      "metadata": {
        "id": "view-in-github",
        "colab_type": "text"
      },
      "source": [
        "<a href=\"https://colab.research.google.com/github/bhaduridba/beam/blob/main/Ikea_assignment_1_q2.ipynb\" target=\"_parent\"><img src=\"https://colab.research.google.com/assets/colab-badge.svg\" alt=\"Open In Colab\"/></a>"
      ]
    },
    {
      "cell_type": "code",
      "metadata": {
        "colab": {
          "base_uri": "https://localhost:8080/"
        },
        "id": "_37Cj__LXr9S",
        "outputId": "27a478dc-ddcf-40cb-8949-02c11209d9ae"
      },
      "source": [
        "pip install apache_beam"
      ],
      "execution_count": 4,
      "outputs": [
        {
          "output_type": "stream",
          "name": "stdout",
          "text": [
            "Requirement already satisfied: apache_beam in /usr/local/lib/python3.7/dist-packages (2.32.0)\n",
            "Requirement already satisfied: protobuf<4,>=3.12.2 in /usr/local/lib/python3.7/dist-packages (from apache_beam) (3.17.3)\n",
            "Requirement already satisfied: pymongo<4.0.0,>=3.8.0 in /usr/local/lib/python3.7/dist-packages (from apache_beam) (3.12.0)\n",
            "Requirement already satisfied: hdfs<3.0.0,>=2.1.0 in /usr/local/lib/python3.7/dist-packages (from apache_beam) (2.6.0)\n",
            "Requirement already satisfied: oauth2client<5,>=2.0.1 in /usr/local/lib/python3.7/dist-packages (from apache_beam) (4.1.3)\n",
            "Requirement already satisfied: requests<3.0.0,>=2.24.0 in /usr/local/lib/python3.7/dist-packages (from apache_beam) (2.26.0)\n",
            "Requirement already satisfied: future<1.0.0,>=0.18.2 in /usr/local/lib/python3.7/dist-packages (from apache_beam) (0.18.2)\n",
            "Requirement already satisfied: python-dateutil<3,>=2.8.0 in /usr/local/lib/python3.7/dist-packages (from apache_beam) (2.8.2)\n",
            "Requirement already satisfied: pyarrow<5.0.0,>=0.15.1 in /usr/local/lib/python3.7/dist-packages (from apache_beam) (3.0.0)\n",
            "Requirement already satisfied: dill<0.3.2,>=0.3.1.1 in /usr/local/lib/python3.7/dist-packages (from apache_beam) (0.3.1.1)\n",
            "Requirement already satisfied: orjson<4.0 in /usr/local/lib/python3.7/dist-packages (from apache_beam) (3.6.4)\n",
            "Requirement already satisfied: typing-extensions<3.8.0,>=3.7.0 in /usr/local/lib/python3.7/dist-packages (from apache_beam) (3.7.4.3)\n",
            "Requirement already satisfied: httplib2<0.20.0,>=0.8 in /usr/local/lib/python3.7/dist-packages (from apache_beam) (0.17.4)\n",
            "Requirement already satisfied: numpy<1.21.0,>=1.14.3 in /usr/local/lib/python3.7/dist-packages (from apache_beam) (1.19.5)\n",
            "Requirement already satisfied: grpcio<2,>=1.29.0 in /usr/local/lib/python3.7/dist-packages (from apache_beam) (1.40.0)\n",
            "Requirement already satisfied: pydot<2,>=1.2.0 in /usr/local/lib/python3.7/dist-packages (from apache_beam) (1.3.0)\n",
            "Requirement already satisfied: avro-python3!=1.9.2,<1.10.0,>=1.8.1 in /usr/local/lib/python3.7/dist-packages (from apache_beam) (1.9.2.1)\n",
            "Requirement already satisfied: pytz>=2018.3 in /usr/local/lib/python3.7/dist-packages (from apache_beam) (2018.9)\n",
            "Requirement already satisfied: fastavro<2,>=0.21.4 in /usr/local/lib/python3.7/dist-packages (from apache_beam) (1.4.5)\n",
            "Requirement already satisfied: crcmod<2.0,>=1.7 in /usr/local/lib/python3.7/dist-packages (from apache_beam) (1.7)\n",
            "Requirement already satisfied: six>=1.5.2 in /usr/local/lib/python3.7/dist-packages (from grpcio<2,>=1.29.0->apache_beam) (1.15.0)\n",
            "Requirement already satisfied: docopt in /usr/local/lib/python3.7/dist-packages (from hdfs<3.0.0,>=2.1.0->apache_beam) (0.6.2)\n",
            "Requirement already satisfied: pyasn1>=0.1.7 in /usr/local/lib/python3.7/dist-packages (from oauth2client<5,>=2.0.1->apache_beam) (0.4.8)\n",
            "Requirement already satisfied: pyasn1-modules>=0.0.5 in /usr/local/lib/python3.7/dist-packages (from oauth2client<5,>=2.0.1->apache_beam) (0.2.8)\n",
            "Requirement already satisfied: rsa>=3.1.4 in /usr/local/lib/python3.7/dist-packages (from oauth2client<5,>=2.0.1->apache_beam) (4.7.2)\n",
            "Requirement already satisfied: pyparsing>=2.1.4 in /usr/local/lib/python3.7/dist-packages (from pydot<2,>=1.2.0->apache_beam) (2.4.7)\n",
            "Requirement already satisfied: urllib3<1.27,>=1.21.1 in /usr/local/lib/python3.7/dist-packages (from requests<3.0.0,>=2.24.0->apache_beam) (1.24.3)\n",
            "Requirement already satisfied: idna<4,>=2.5 in /usr/local/lib/python3.7/dist-packages (from requests<3.0.0,>=2.24.0->apache_beam) (2.10)\n",
            "Requirement already satisfied: charset-normalizer~=2.0.0 in /usr/local/lib/python3.7/dist-packages (from requests<3.0.0,>=2.24.0->apache_beam) (2.0.6)\n",
            "Requirement already satisfied: certifi>=2017.4.17 in /usr/local/lib/python3.7/dist-packages (from requests<3.0.0,>=2.24.0->apache_beam) (2021.5.30)\n"
          ]
        }
      ]
    },
    {
      "cell_type": "code",
      "metadata": {
        "colab": {
          "base_uri": "https://localhost:8080/"
        },
        "id": "acXO9yxv0VLc",
        "outputId": "b358618e-5794-414a-d91e-ae7e68581cc8"
      },
      "source": [
        "pip install datetime"
      ],
      "execution_count": 5,
      "outputs": [
        {
          "output_type": "stream",
          "name": "stdout",
          "text": [
            "Requirement already satisfied: datetime in /usr/local/lib/python3.7/dist-packages (4.3)\n",
            "Requirement already satisfied: pytz in /usr/local/lib/python3.7/dist-packages (from datetime) (2018.9)\n",
            "Requirement already satisfied: zope.interface in /usr/local/lib/python3.7/dist-packages (from datetime) (5.4.0)\n",
            "Requirement already satisfied: setuptools in /usr/local/lib/python3.7/dist-packages (from zope.interface->datetime) (57.4.0)\n"
          ]
        }
      ]
    },
    {
      "cell_type": "code",
      "metadata": {
        "colab": {
          "base_uri": "https://localhost:8080/"
        },
        "id": "txCYuNbJlfQl",
        "outputId": "5afc7543-8f34-4cbc-8855-c27cc5ca592b"
      },
      "source": [
        "import apache_beam as beam\n",
        "p = beam.Pipeline()\n",
        "\n",
        "def calculate_customer_purchase_amt(element):\n",
        "    customer_tuple = element.split(';')\n",
        "    customer_name = customer_tuple[0]\n",
        "    transaction_amount = float(customer_tuple[11])\n",
        "\n",
        "    return customer_name, transaction_amount\n",
        "\n",
        "#def format_result(sum_pair):\n",
        "#    customer_name, amount = sum_pair\n",
        "#    return customer_name + ',' + str(amount) + ' total amount purchased'\n",
        "\n",
        "\n",
        "calculate_customer_total_purchase_amt = (\n",
        "                 p\n",
        "                 |'read data' >> beam.io.ReadFromText('sample_data/RetailCustomerSales.csv', skip_header_lines=1)\n",
        "                 |'calculate customer purchase amount' >> beam.Map(calculate_customer_purchase_amt)\n",
        "                 |'combine purchase amount for customers' >> beam.CombinePerKey(sum)\n",
        "                 |'write output data' >> beam.io.WriteToText('output1/RetailCustomerSales')\n",
        "                 )\n",
        "\n",
        "p.run()"
      ],
      "execution_count": 6,
      "outputs": [
        {
          "output_type": "stream",
          "name": "stderr",
          "text": [
            "WARNING:root:Make sure that locally built Python SDK docker image has Python 3.7 interpreter.\n"
          ]
        },
        {
          "output_type": "execute_result",
          "data": {
            "text/plain": [
              "<apache_beam.runners.portability.fn_api_runner.fn_runner.RunnerResult at 0x7f0225a3fa90>"
            ]
          },
          "metadata": {},
          "execution_count": 6
        }
      ]
    },
    {
      "cell_type": "code",
      "metadata": {
        "colab": {
          "base_uri": "https://localhost:8080/"
        },
        "id": "3sn6wkoXq_I-",
        "outputId": "3db009b2-d268-4774-a9fd-ec3540a13913"
      },
      "source": [
        "!cat output1/RetailCustomerSales-00000-of-00001 | head -10\n"
      ],
      "execution_count": 14,
      "outputs": [
        {
          "output_type": "stream",
          "name": "stdout",
          "text": [
            "('1000001', 333481.0)\n",
            "('1000002', 810353.0)\n",
            "('1000003', 341635.0)\n",
            "('1000004', 205987.0)\n",
            "('1000005', 821001.0)\n",
            "('1000006', 379450.0)\n",
            "('1000007', 234427.0)\n",
            "('1000008', 796545.0)\n",
            "('1000009', 593960.0)\n",
            "('1000010', 2169486.0)\n"
          ]
        }
      ]
    },
    {
      "cell_type": "code",
      "metadata": {
        "colab": {
          "base_uri": "https://localhost:8080/"
        },
        "id": "s4PjFhAX1z6G",
        "outputId": "e83d6543-ab73-409d-ef3d-69a7baafb5b5"
      },
      "source": [
        "import apache_beam as beam\n",
        "p = beam.Pipeline()\n",
        "\n",
        "def calculate_customer_purchase_amt(element):\n",
        "    customer_tuple = element.split(';')\n",
        "    customer_name = customer_tuple[0]\n",
        "    transaction_amount = float(customer_tuple[11])\n",
        "\n",
        "    return customer_name, transaction_amount\n",
        "\n",
        "def calculate_customer_age_brackets(element):\n",
        "    customer_tuple = element.split(';')\n",
        "    customer_name = customer_tuple[0]\n",
        "    age_bracket = str(customer_tuple[3])\n",
        "\n",
        "    return customer_name, age_bracket\n",
        "\n",
        "#def format_result(sum_pair):\n",
        "#    customer_name, amount = sum_pair\n",
        "#    return customer_name + ',' + str(amount) + ' total amount purchased'\n",
        "\n",
        "def sortGroupedData(element):\n",
        "    (customer_name, age_bracket) = element\n",
        "    \n",
        "    age_bracket.sort(key=lambda x: x[0], reverse=True)\n",
        "    return sortData[0:]\n",
        "\n",
        "calculate_customer_age_brackets = (\n",
        "                 p\n",
        "                 |'read data' >> beam.io.ReadFromText('sample_data/RetailCustomerSales.csv', skip_header_lines=1)\n",
        "                 |'calculate customer age brackets' >> beam.Map(calculate_customer_age_brackets)\n",
        "                 |'Deduplicate elements' >> beam.Distinct()\n",
        "                 #|'sort elements' >> beam.Map(sortGroupedData)\n",
        "                 |'write output data' >> beam.io.WriteToText('output2/customers_age_brackets')\n",
        "                 )\n",
        "\n",
        "\n",
        "p.run()"
      ],
      "execution_count": 8,
      "outputs": [
        {
          "output_type": "stream",
          "name": "stderr",
          "text": [
            "WARNING:root:Make sure that locally built Python SDK docker image has Python 3.7 interpreter.\n"
          ]
        },
        {
          "output_type": "execute_result",
          "data": {
            "text/plain": [
              "<apache_beam.runners.portability.fn_api_runner.fn_runner.RunnerResult at 0x7f0226153c90>"
            ]
          },
          "metadata": {},
          "execution_count": 8
        }
      ]
    },
    {
      "cell_type": "code",
      "metadata": {
        "colab": {
          "base_uri": "https://localhost:8080/"
        },
        "id": "LKAEkOMA4hzh",
        "outputId": "2f8200e1-52e8-4120-ab59-5f66e494d4e5"
      },
      "source": [
        "!cat output2/customers_age_brackets-00000-of-00001 | head -10"
      ],
      "execution_count": 9,
      "outputs": [
        {
          "output_type": "stream",
          "name": "stdout",
          "text": [
            "('1000001', '0-17')\n",
            "('1000002', '55+')\n",
            "('1000003', '26-35')\n",
            "('1000004', '46-50')\n",
            "('1000005', '26-35')\n",
            "('1000006', '51-55')\n",
            "('1000007', '36-45')\n",
            "('1000008', '26-35')\n",
            "('1000009', '26-35')\n",
            "('1000010', '36-45')\n"
          ]
        }
      ]
    },
    {
      "cell_type": "code",
      "metadata": {
        "colab": {
          "base_uri": "https://localhost:8080/"
        },
        "id": "LH-Q00k-57qT",
        "outputId": "1ef42eb3-1999-4758-8345-3cf62d283d98"
      },
      "source": [
        "import apache_beam as beam\n",
        "p = beam.Pipeline()\n",
        "\n",
        "#def format_result(sum_pair):\n",
        "#    customer_name, amount = sum_pair\n",
        "#    return customer_name + ',' + str(amount) + ' total amount purchased'\n",
        "\n",
        "def calculate_distinct_age_brackets(element):\n",
        "    customer_tuple = element.split(';')\n",
        "    age_bracket = str(customer_tuple[3])\n",
        "\n",
        "    return age_bracket\n",
        "\n",
        "calculate_distinct_age_brackets = (\n",
        "                 p\n",
        "                 |'read data' >> beam.io.ReadFromText('sample_data/RetailCustomerSales.csv', skip_header_lines=1)\n",
        "                 |'calculate customer age brackets' >> beam.Map(calculate_distinct_age_brackets)\n",
        "                 |'Deduplicate elements' >> beam.Distinct()\n",
        "                 |'write output data' >> beam.io.WriteToText('output3/distinct_age_brackets')\n",
        "                 )\n",
        "\n",
        "\n",
        "p.run()"
      ],
      "execution_count": 10,
      "outputs": [
        {
          "output_type": "stream",
          "name": "stderr",
          "text": [
            "WARNING:root:Make sure that locally built Python SDK docker image has Python 3.7 interpreter.\n"
          ]
        },
        {
          "output_type": "execute_result",
          "data": {
            "text/plain": [
              "<apache_beam.runners.portability.fn_api_runner.fn_runner.RunnerResult at 0x7f0225a20e90>"
            ]
          },
          "metadata": {},
          "execution_count": 10
        }
      ]
    },
    {
      "cell_type": "code",
      "metadata": {
        "colab": {
          "base_uri": "https://localhost:8080/"
        },
        "id": "lRJc2s-Y6kr1",
        "outputId": "5c225995-df20-4e15-ed32-ddc14dfd57dc"
      },
      "source": [
        "!cat output3/distinct_age_brackets-00000-of-00001"
      ],
      "execution_count": 11,
      "outputs": [
        {
          "output_type": "stream",
          "name": "stdout",
          "text": [
            "0-17\n",
            "55+\n",
            "26-35\n",
            "46-50\n",
            "51-55\n",
            "36-45\n",
            "18-25\n"
          ]
        }
      ]
    },
    {
      "cell_type": "code",
      "metadata": {
        "id": "q3nCV2Mo7fCx"
      },
      "source": [
        "!cp output3/distinct_age_brackets-00000-of-00001 sample_data/distinct_age_brackets.txt"
      ],
      "execution_count": 12,
      "outputs": []
    },
    {
      "cell_type": "code",
      "metadata": {
        "colab": {
          "base_uri": "https://localhost:8080/"
        },
        "id": "7gVnLgio7q4G",
        "outputId": "17e44a9e-9ef4-43db-fc8b-2f6c40c4bd6e"
      },
      "source": [
        "!cat sample_data/distinct_age_brackets.txt"
      ],
      "execution_count": 13,
      "outputs": [
        {
          "output_type": "stream",
          "name": "stdout",
          "text": [
            "0-17\n",
            "55+\n",
            "26-35\n",
            "46-50\n",
            "51-55\n",
            "36-45\n",
            "18-25\n"
          ]
        }
      ]
    }
  ]
}