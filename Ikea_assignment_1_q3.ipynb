{
  "nbformat": 4,
  "nbformat_minor": 0,
  "metadata": {
    "colab": {
      "name": "Ikea_assignment_1_q3.ipynb",
      "provenance": [],
      "collapsed_sections": [],
      "authorship_tag": "ABX9TyPHgq1+HjTXZeXYNacV07NI",
      "include_colab_link": true
    },
    "kernelspec": {
      "name": "python3",
      "display_name": "Python 3"
    },
    "language_info": {
      "name": "python"
    }
  },
  "cells": [
    {
      "cell_type": "markdown",
      "metadata": {
        "id": "view-in-github",
        "colab_type": "text"
      },
      "source": [
        "<a href=\"https://colab.research.google.com/github/bhaduridba/beam/blob/main/Ikea_assignment_1_q3.ipynb\" target=\"_parent\"><img src=\"https://colab.research.google.com/assets/colab-badge.svg\" alt=\"Open In Colab\"/></a>"
      ]
    },
    {
      "cell_type": "code",
      "metadata": {
        "colab": {
          "base_uri": "https://localhost:8080/"
        },
        "id": "_37Cj__LXr9S",
        "outputId": "6b09304d-51e0-472e-c957-c35ed11c88f4"
      },
      "source": [
        "pip install apache_beam"
      ],
      "execution_count": null,
      "outputs": [
        {
          "output_type": "stream",
          "name": "stdout",
          "text": [
            "Requirement already satisfied: apache_beam in /usr/local/lib/python3.7/dist-packages (2.32.0)\n",
            "Requirement already satisfied: protobuf<4,>=3.12.2 in /usr/local/lib/python3.7/dist-packages (from apache_beam) (3.17.3)\n",
            "Requirement already satisfied: future<1.0.0,>=0.18.2 in /usr/local/lib/python3.7/dist-packages (from apache_beam) (0.18.2)\n",
            "Requirement already satisfied: python-dateutil<3,>=2.8.0 in /usr/local/lib/python3.7/dist-packages (from apache_beam) (2.8.2)\n",
            "Requirement already satisfied: typing-extensions<3.8.0,>=3.7.0 in /usr/local/lib/python3.7/dist-packages (from apache_beam) (3.7.4.3)\n",
            "Requirement already satisfied: grpcio<2,>=1.29.0 in /usr/local/lib/python3.7/dist-packages (from apache_beam) (1.40.0)\n",
            "Requirement already satisfied: dill<0.3.2,>=0.3.1.1 in /usr/local/lib/python3.7/dist-packages (from apache_beam) (0.3.1.1)\n",
            "Requirement already satisfied: pytz>=2018.3 in /usr/local/lib/python3.7/dist-packages (from apache_beam) (2018.9)\n",
            "Requirement already satisfied: hdfs<3.0.0,>=2.1.0 in /usr/local/lib/python3.7/dist-packages (from apache_beam) (2.6.0)\n",
            "Requirement already satisfied: oauth2client<5,>=2.0.1 in /usr/local/lib/python3.7/dist-packages (from apache_beam) (4.1.3)\n",
            "Requirement already satisfied: crcmod<2.0,>=1.7 in /usr/local/lib/python3.7/dist-packages (from apache_beam) (1.7)\n",
            "Requirement already satisfied: orjson<4.0 in /usr/local/lib/python3.7/dist-packages (from apache_beam) (3.6.4)\n",
            "Requirement already satisfied: pymongo<4.0.0,>=3.8.0 in /usr/local/lib/python3.7/dist-packages (from apache_beam) (3.12.0)\n",
            "Requirement already satisfied: fastavro<2,>=0.21.4 in /usr/local/lib/python3.7/dist-packages (from apache_beam) (1.4.5)\n",
            "Requirement already satisfied: avro-python3!=1.9.2,<1.10.0,>=1.8.1 in /usr/local/lib/python3.7/dist-packages (from apache_beam) (1.9.2.1)\n",
            "Requirement already satisfied: requests<3.0.0,>=2.24.0 in /usr/local/lib/python3.7/dist-packages (from apache_beam) (2.26.0)\n",
            "Requirement already satisfied: numpy<1.21.0,>=1.14.3 in /usr/local/lib/python3.7/dist-packages (from apache_beam) (1.19.5)\n",
            "Requirement already satisfied: pyarrow<5.0.0,>=0.15.1 in /usr/local/lib/python3.7/dist-packages (from apache_beam) (3.0.0)\n",
            "Requirement already satisfied: httplib2<0.20.0,>=0.8 in /usr/local/lib/python3.7/dist-packages (from apache_beam) (0.17.4)\n",
            "Requirement already satisfied: pydot<2,>=1.2.0 in /usr/local/lib/python3.7/dist-packages (from apache_beam) (1.3.0)\n",
            "Requirement already satisfied: six>=1.5.2 in /usr/local/lib/python3.7/dist-packages (from grpcio<2,>=1.29.0->apache_beam) (1.15.0)\n",
            "Requirement already satisfied: docopt in /usr/local/lib/python3.7/dist-packages (from hdfs<3.0.0,>=2.1.0->apache_beam) (0.6.2)\n",
            "Requirement already satisfied: rsa>=3.1.4 in /usr/local/lib/python3.7/dist-packages (from oauth2client<5,>=2.0.1->apache_beam) (4.7.2)\n",
            "Requirement already satisfied: pyasn1-modules>=0.0.5 in /usr/local/lib/python3.7/dist-packages (from oauth2client<5,>=2.0.1->apache_beam) (0.2.8)\n",
            "Requirement already satisfied: pyasn1>=0.1.7 in /usr/local/lib/python3.7/dist-packages (from oauth2client<5,>=2.0.1->apache_beam) (0.4.8)\n",
            "Requirement already satisfied: pyparsing>=2.1.4 in /usr/local/lib/python3.7/dist-packages (from pydot<2,>=1.2.0->apache_beam) (2.4.7)\n",
            "Requirement already satisfied: charset-normalizer~=2.0.0 in /usr/local/lib/python3.7/dist-packages (from requests<3.0.0,>=2.24.0->apache_beam) (2.0.6)\n",
            "Requirement already satisfied: idna<4,>=2.5 in /usr/local/lib/python3.7/dist-packages (from requests<3.0.0,>=2.24.0->apache_beam) (2.10)\n",
            "Requirement already satisfied: certifi>=2017.4.17 in /usr/local/lib/python3.7/dist-packages (from requests<3.0.0,>=2.24.0->apache_beam) (2021.5.30)\n",
            "Requirement already satisfied: urllib3<1.27,>=1.21.1 in /usr/local/lib/python3.7/dist-packages (from requests<3.0.0,>=2.24.0->apache_beam) (1.24.3)\n"
          ]
        }
      ]
    },
    {
      "cell_type": "code",
      "metadata": {
        "colab": {
          "base_uri": "https://localhost:8080/"
        },
        "id": "acXO9yxv0VLc",
        "outputId": "f68ec9b7-ad9e-491c-b6d4-a4871c5350fc"
      },
      "source": [
        "pip install datetime"
      ],
      "execution_count": null,
      "outputs": [
        {
          "output_type": "stream",
          "name": "stdout",
          "text": [
            "Requirement already satisfied: datetime in /usr/local/lib/python3.7/dist-packages (4.3)\n",
            "Requirement already satisfied: pytz in /usr/local/lib/python3.7/dist-packages (from datetime) (2018.9)\n",
            "Requirement already satisfied: zope.interface in /usr/local/lib/python3.7/dist-packages (from datetime) (5.4.0)\n",
            "Requirement already satisfied: setuptools in /usr/local/lib/python3.7/dist-packages (from zope.interface->datetime) (57.4.0)\n"
          ]
        }
      ]
    },
    {
      "cell_type": "code",
      "metadata": {
        "colab": {
          "base_uri": "https://localhost:8080/"
        },
        "id": "LH-Q00k-57qT",
        "outputId": "85bb8e5a-3e1c-4696-de49-569ea94e3452"
      },
      "source": [
        "import apache_beam as beam\n",
        "p = beam.Pipeline()\n",
        "\n",
        "#def format_result(sum_pair):\n",
        "#    customer_name, amount = sum_pair\n",
        "#    return customer_name + ',' + str(amount) + ' total amount purchased'\n",
        "\n",
        "def calculate_distinct_age_brackets(element):\n",
        "    customer_tuple = element.split(';')\n",
        "    age_bracket = str(customer_tuple[3])\n",
        "\n",
        "    return age_bracket\n",
        "\n",
        "calculate_distinct_age_brackets = (\n",
        "                 p\n",
        "                 |'read data' >> beam.io.ReadFromText('sample_data/RetailCustomerSales.csv', skip_header_lines=1)\n",
        "                 |'calculate customer age brackets' >> beam.Map(calculate_distinct_age_brackets)\n",
        "                 |'Deduplicate elements' >> beam.Distinct()\n",
        "                 |'write output data' >> beam.io.WriteToText('output4/distinct_age_brackets')\n",
        "                 )\n",
        "\n",
        "\n",
        "p.run()"
      ],
      "execution_count": null,
      "outputs": [
        {
          "output_type": "stream",
          "name": "stderr",
          "text": [
            "WARNING:root:Make sure that locally built Python SDK docker image has Python 3.7 interpreter.\n"
          ]
        },
        {
          "output_type": "execute_result",
          "data": {
            "text/plain": [
              "<apache_beam.runners.portability.fn_api_runner.fn_runner.RunnerResult at 0x7fec881a4a50>"
            ]
          },
          "metadata": {},
          "execution_count": 20
        }
      ]
    },
    {
      "cell_type": "code",
      "metadata": {
        "colab": {
          "base_uri": "https://localhost:8080/"
        },
        "id": "lRJc2s-Y6kr1",
        "outputId": "e5164ac7-57de-424b-e4c1-ba8731b5ecc6"
      },
      "source": [
        "!cat output4/distinct_age_brackets-00000-of-00001"
      ],
      "execution_count": null,
      "outputs": [
        {
          "output_type": "stream",
          "name": "stdout",
          "text": [
            "0-17\n",
            "55+\n",
            "26-35\n",
            "46-50\n",
            "51-55\n",
            "36-45\n",
            "18-25\n"
          ]
        }
      ]
    },
    {
      "cell_type": "code",
      "metadata": {
        "id": "q3nCV2Mo7fCx"
      },
      "source": [
        "!cp output4/distinct_age_brackets-00000-of-00001 sample_data/distinct_age_brackets.txt"
      ],
      "execution_count": null,
      "outputs": []
    },
    {
      "cell_type": "code",
      "metadata": {
        "colab": {
          "base_uri": "https://localhost:8080/"
        },
        "id": "7gVnLgio7q4G",
        "outputId": "9681ac69-d874-41ca-981e-73f54cf7cf2f"
      },
      "source": [
        "!cat sample_data/distinct_age_brackets.txt"
      ],
      "execution_count": null,
      "outputs": [
        {
          "output_type": "stream",
          "name": "stdout",
          "text": [
            "0-17\n",
            "55+\n",
            "26-35\n",
            "46-50\n",
            "51-55\n",
            "36-45\n",
            "18-25\n"
          ]
        }
      ]
    },
    {
      "cell_type": "code",
      "metadata": {
        "colab": {
          "base_uri": "https://localhost:8080/"
        },
        "id": "E5rAi1yYbu6T",
        "outputId": "ae9f108a-7cd8-4414-9823-ff76adb2f99a"
      },
      "source": [
        "import apache_beam as beam\n",
        "p = beam.Pipeline()\n",
        "\n",
        "def calculate_customer_age_bracket_rating(element):\n",
        "    customer_age_bracket_rating_tuple = element.split(';')\n",
        "    customer_name = customer_age_bracket_rating_tuple[0]\n",
        "    customer_age_bracket = str(customer_age_bracket_rating_tuple[3])\n",
        "    customer_age_bracket_lowest = customer_age_bracket[0][0]\n",
        "    customer_age_bracket_lower = customer_age_bracket[0:2]\n",
        "    customer_age_bracket_higher = customer_age_bracket[3:2]\n",
        "    customer_age_bracket_highest =  customer_age_bracket[2]\n",
        "\n",
        "    customer_age_point = 0\n",
        "    customer_age_class = ''\n",
        "\n",
        "    #customer _age_scale 6\n",
        "    if  customer_age_bracket == '55+':\n",
        "        customer_age_point = 6\n",
        "        customer_age_class = 'Senior'\n",
        "\n",
        "    #customer _age_scale 5\n",
        "    if  customer_age_bracket == '51-55':\n",
        "        customer_age_point = 5\n",
        "        customer_age_class = 'Old'\n",
        "\n",
        "    #customer _age_scale 4\n",
        "    if  customer_age_bracket == '46-50':\n",
        "        customer_age_point = 4\n",
        "        customer_age_class = 'Old Adult'\n",
        "\n",
        "    #customer _age_scale 3\n",
        "    if  customer_age_bracket == '36-45':\n",
        "        customer_age_point = 3\n",
        "        customer_age_class = 'Middle Age'\n",
        "\n",
        "    #customer _age_scale 2\n",
        "    if  customer_age_bracket == '26-35':\n",
        "        customer_age_point = 2\n",
        "        customer_age_class = 'Adult'\n",
        "\n",
        "    #customer _age_scale 1\n",
        "    if  customer_age_bracket == '18-25':\n",
        "        customer_age_point = 1\n",
        "        customer_age_class = 'Young Adult'\n",
        "\n",
        "    #customer _age_scale 0\n",
        "    if  customer_age_bracket == '0-17':\n",
        "        customer_age_point = 0\n",
        "        customer_age_class = 'Young'\n",
        "\n",
        "    return customer_name, customer_age_bracket, customer_age_point, customer_age_class\n",
        "\n",
        "calculate_age_brackets_grading = (\n",
        "                 p\n",
        "                 |'read data' >> beam.io.ReadFromText('sample_data/RetailCustomerSales.csv', skip_header_lines=1)\n",
        "                 |'calculate customer age_brackets' >> beam.Map(calculate_customer_age_bracket_rating)\n",
        "                 |'write output data' >> beam.io.WriteToText('output9/customer_age_bracket_rating')\n",
        "                 )\n",
        "\n",
        "p.run()"
      ],
      "execution_count": null,
      "outputs": [
        {
          "output_type": "stream",
          "name": "stderr",
          "text": [
            "WARNING:root:Make sure that locally built Python SDK docker image has Python 3.7 interpreter.\n"
          ]
        },
        {
          "output_type": "execute_result",
          "data": {
            "text/plain": [
              "<apache_beam.runners.portability.fn_api_runner.fn_runner.RunnerResult at 0x7fec882f9290>"
            ]
          },
          "metadata": {},
          "execution_count": 24
        }
      ]
    },
    {
      "cell_type": "code",
      "metadata": {
        "colab": {
          "base_uri": "https://localhost:8080/"
        },
        "id": "-o07n6XOiV7m",
        "outputId": "ac5fb749-df7a-4a98-e757-407644fd1512"
      },
      "source": [
        "!cat output9/customer_age_bracket_rating-00000-of-00001 | head -20"
      ],
      "execution_count": null,
      "outputs": [
        {
          "output_type": "stream",
          "name": "stdout",
          "text": [
            "('1000001', '0-17', 0, 'Young')\n",
            "('1000001', '0-17', 0, 'Young')\n",
            "('1000001', '0-17', 0, 'Young')\n",
            "('1000001', '0-17', 0, 'Young')\n",
            "('1000002', '55+', 6, 'Senior')\n",
            "('1000003', '26-35', 2, 'Adult')\n",
            "('1000004', '46-50', 4, 'Old Adult')\n",
            "('1000004', '46-50', 4, 'Old Adult')\n",
            "('1000004', '46-50', 4, 'Old Adult')\n",
            "('1000005', '26-35', 2, 'Adult')\n",
            "('1000005', '26-35', 2, 'Adult')\n",
            "('1000005', '26-35', 2, 'Adult')\n",
            "('1000005', '26-35', 2, 'Adult')\n",
            "('1000005', '26-35', 2, 'Adult')\n",
            "('1000006', '51-55', 5, 'Old')\n",
            "('1000006', '51-55', 5, 'Old')\n",
            "('1000006', '51-55', 5, 'Old')\n",
            "('1000006', '51-55', 5, 'Old')\n",
            "('1000007', '36-45', 3, 'Middle Age')\n",
            "('1000008', '26-35', 2, 'Adult')\n"
          ]
        }
      ]
    },
    {
      "cell_type": "markdown",
      "metadata": {
        "id": "YEiJU8wv9gVr"
      },
      "source": [
        "## Step 1: We will create a Python Data Generator that will stream data from Online Event streams into a Pub Sub topic"
      ]
    },
    {
      "cell_type": "markdown",
      "metadata": {
        "id": "ZsvmHsFe947v"
      },
      "source": [
        "## Step 2: We will create a Beam Pipeline as below that will get data from Pub Sub topic and do the processing\n",
        "\n",
        "# The processing will check for certain Customers IDs and new Customers purchase amount and we can create some sort of Campaign to target based on those metrics "
      ]
    },
    {
      "cell_type": "code",
      "metadata": {
        "colab": {
          "base_uri": "https://localhost:8080/"
        },
        "id": "d6HnZ5LkCRRn",
        "outputId": "68b600cc-64ac-4661-9fc3-d437e32b78ef"
      },
      "source": [
        "import apache_beam as beam\n",
        "p = beam.Pipeline()\n",
        "\n",
        "#def format_result(sum_pair):\n",
        "#    customer_name, amount = sum_pair\n",
        "#    return customer_name + ',' + str(amount) + ' total amount purchased'\n",
        "\n",
        "def get_customerIDs(element):\n",
        "    customer_tuple = element.split(';')\n",
        "    customerIDs = str(customer_tuple[0])\n",
        "\n",
        "    return customerIDs\n",
        "\n",
        "get_customerIDs = (\n",
        "                 p\n",
        "                 |'read data' >> beam.io.ReadFromText('sample_data/RetailCustomerSales.csv', skip_header_lines=1)\n",
        "                 |'get customerIDs' >> beam.Map(get_customerIDs)\n",
        "                 |'Deduplicate elements' >> beam.Distinct()\n",
        "                 |'write output data' >> beam.io.WriteToText('output11/customerIDs')\n",
        "                 )\n",
        "\n",
        "\n",
        "p.run()"
      ],
      "execution_count": null,
      "outputs": [
        {
          "output_type": "stream",
          "name": "stderr",
          "text": [
            "WARNING:root:Make sure that locally built Python SDK docker image has Python 3.7 interpreter.\n"
          ]
        },
        {
          "output_type": "execute_result",
          "data": {
            "text/plain": [
              "<apache_beam.runners.portability.fn_api_runner.fn_runner.RunnerResult at 0x7fec8814ad90>"
            ]
          },
          "metadata": {},
          "execution_count": 28
        }
      ]
    },
    {
      "cell_type": "code",
      "metadata": {
        "id": "XFtjsfVCC_iz"
      },
      "source": [
        "!cp output11/customerIDs-00000-of-00001 sample_data/customerIDs.txt"
      ],
      "execution_count": null,
      "outputs": []
    },
    {
      "cell_type": "code",
      "metadata": {
        "id": "gj09KfiABwA0"
      },
      "source": [
        "side_list=list()\n",
        "with open ('sample_data/customerIDs.txt','r') as my_file:\n",
        "  for customerID in my_file:\n",
        "    side_list.append(customerID.rstrip())\n"
      ],
      "execution_count": null,
      "outputs": []
    },
    {
      "cell_type": "code",
      "metadata": {
        "id": "W2T1Drbp9cvZ"
      },
      "source": [
        "import apache_beam as beam\n",
        "from apache_beam.options.pipeline_options import PipelineOptions, StandardOptions\n",
        "import os\n",
        "from apache_beam import window\n",
        "from apache_beam.transforms.trigger import AfterWatermark, AfterProcessingTime, AccumulationMode, AfterCount\n",
        "\n",
        "# Replace with your service account path\n",
        "service_account_path = ''\n",
        "\n",
        "print(\"Service account file : \", service_account_path)\n",
        "os.environ[\"GOOGLE_APPLICATION_CREDENTIALS\"] = service_account_path\n",
        "\n",
        "# Replace with your input subscription id\n",
        "input_subscription = ''\n",
        "\n",
        "# OPTION 1: Replace with your output subscription id\n",
        "output_topic = ''\n",
        "# OPTION 2: We can also write into GCS bucket storage or in CLoud SQL as per Use case\n",
        "\n",
        "options = PipelineOptions()\n",
        "options.view_as(StandardOptions).streaming = True\n",
        "\n",
        "p = beam.Pipeline(options=options)\n",
        "\n",
        "def encode_byte_string(element):\n",
        "\n",
        "   element = str(element)\n",
        "   return element.encode('utf-8')\n",
        "\n",
        "pubsub_retaildata= (\n",
        "                p \n",
        "                | 'Read from pub sub' >> beam.io.ReadFromPubSub(subscription= input_subscription,timestamp_attribute = 1553578219)  \n",
        "                # Customer name,Malmö,Item,Item Category1,200,1553578219/r/n\n",
        "                | 'Remove extra chars' >> beam.Map(lambda retaildata: (retaildata.rstrip().lstrip()))          # Customer name,Malmö,Item,Item Category1,200,1553578219\n",
        "                | 'Split Row' >> beam.Map(lambda row : row.split(';'))                             # [Customer name;Malmö;Item;Item Category1;200;1553578219]\n",
        "                | 'Form Key Value pair' >> beam.Map(lambda elements : (elements[0], float(elements[11])))  # Customer name 112,0\n",
        "                | 'Window' >> beam.WindowInto(window.FixedWindows(20))\n",
        "                | 'Sum values' >> beam.CombinePerKey(sum)\n",
        "                | 'Encode to byte string' >> beam.Map(encode_byte_string)  #Pubsub takes data in form of byte strings \n",
        "                #| 'Write to pus sub' >> beam.io.WriteToPubSub(output_topic) # or we can write to GCS bucket\n",
        "                |'write output data' >> beam.io.WriteToText('output12/customer_and_amount_purchased.csv')\n",
        "                 \n",
        "\t             )\n",
        "\n",
        "result = p.run()\n",
        "result.wait_until_finish()"
      ],
      "execution_count": null,
      "outputs": []
    },
    {
      "cell_type": "code",
      "metadata": {
        "id": "xlNH0a3aEf3o"
      },
      "source": [
        "p = beam.Pipeline()\n",
        "\n",
        "# We can pass side inputs to a ParDo transform, which will get passed to its process method.\n",
        "# we can use Lower bound and Upper bound as mock up for Customer IDs we wish to check activities\n",
        "\n",
        "class FilterUsingCustomerIDs(beam.DoFn):\n",
        "  def process(self, element,side_list,lower_bound, upper_bound=float('inf')):\n",
        "    id = element.split(';')[0]\n",
        "    id=id.decode('utf-8','ignore').encode(\"utf-8\")\n",
        "    element_list= element.split(';')\n",
        "    if (lower_bound <= id <= upper_bound) or id not in side_list:\n",
        "      return [element_list]\n",
        "\n",
        "# using pardo to filter Customers with activities \n",
        "Check_Customers_activities =( \n",
        "                p\n",
        "                | \"Read from text file\" >> beam.io.ReadFromText('output12/customer_and_amount_purchased.csv')\n",
        "                | \"ParDo with side inputs\" >> beam.ParDo(FilterUsingCustomerIDs(),side_list,100000,200000) \n",
        "                | beam.Map(lambda record: (record[0]+ \" \" + record[1], 1))\n",
        "                | beam.CombinePerKey(sum)\n",
        "                | 'Write results' >> beam.io.WriteToText('data/output_new_final')\n",
        "             )\n",
        "\n",
        "p.run()"
      ],
      "execution_count": null,
      "outputs": []
    }
  ]
}